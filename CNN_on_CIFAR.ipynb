{
 "cells": [
  {
   "cell_type": "code",
   "execution_count": 0,
   "metadata": {
    "colab": {},
    "colab_type": "code",
    "id": "0MOkZ8pPhPn4"
   },
   "outputs": [],
   "source": [
    "import pickle\n",
    "import numpy as np\n",
    "import cv2\n",
    "import matplotlib.pyplot as plt\n",
    "import tensorflow as tf\n",
    "from tensorflow.compat.v1.keras import Sequential, Model, layers\n",
    "from tensorflow.compat.v1.keras.layers import AveragePooling2D, Input, BatchNormalization, Flatten, MaxPooling2D\n",
    "from tensorflow.compat.v1.keras.activations import relu as ReLU\n",
    "from tensorflow.keras.utils import to_categorical\n",
    "from tensorflow.keras.optimizers import Adam, RMSprop, SGD\n",
    "from tensorflow.keras.callbacks import Callback\n",
    "import os\n",
    "from tensorflow.keras.models import load_model\n",
    "from tensorflow.keras.callbacks import ReduceLROnPlateau\n",
    "from sklearn.metrics import accuracy_score, log_loss\n",
    "import warnings\n",
    "warnings.filterwarnings('ignore')"
   ]
  },
  {
   "cell_type": "code",
   "execution_count": 2,
   "metadata": {
    "colab": {
     "base_uri": "https://localhost:8080/",
     "height": 34
    },
    "colab_type": "code",
    "id": "-rfgdCNMhV01",
    "outputId": "1071ce73-16d3-4c2a-beec-cded7e6ef979"
   },
   "outputs": [
    {
     "name": "stdout",
     "output_type": "stream",
     "text": [
      "Drive already mounted at /content/drive; to attempt to forcibly remount, call drive.mount(\"/content/drive\", force_remount=True).\n"
     ]
    }
   ],
   "source": [
    "from google.colab import drive\n",
    "drive.mount('/content/drive')"
   ]
  },
  {
   "cell_type": "code",
   "execution_count": 0,
   "metadata": {
    "colab": {},
    "colab_type": "code",
    "id": "BPdrSXBjhdNF"
   },
   "outputs": [],
   "source": [
    "os.chdir('drive/My Drive/cifar_10_data')"
   ]
  },
  {
   "cell_type": "markdown",
   "metadata": {},
   "source": [
    "### Image Augmentation"
   ]
  },
  {
   "cell_type": "code",
   "execution_count": 0,
   "metadata": {
    "colab": {},
    "colab_type": "code",
    "id": "kdiIYLUbUGSM"
   },
   "outputs": [],
   "source": [
    "# datagen = ImageDataGenerator(\n",
    "#         rotation_range=10,\n",
    "#         width_shift_range=0.2,\n",
    "#         height_shift_range=0.2,\n",
    "#         rescale=1./255,\n",
    "#         shear_range=0.2,\n",
    "#         zoom_range=0.2,\n",
    "#         horizontal_flip=True,\n",
    "#         fill_mode='nearest')\n",
    "\n",
    "# augmented_images = np.array([])\n",
    "# augmented_labels = np.array([])\n",
    "\n",
    "# i = 0\n",
    "# for batches in datagen.flow(train_data, train_labels, batch_size = 32, seed = 2):\n",
    "#     if i>2000:\n",
    "#         break\n",
    "#     if augmented_images.shape[0] == 0:\n",
    "#         augmented_images = batches[0]\n",
    "#         augmented_labels = batches[1]\n",
    "#     augmented_images = np.vstack((augmented_images, batches[0]))\n",
    "#     augmented_labels = np.vstack((augmented_labels, batches[1]))\n",
    "#     i+=1\n",
    "\n",
    "# data = np.vstack((data, augmented_images))\n",
    "# labels = np.vstack((labels, augmented_labels))\n",
    "\n",
    "# indexes = np.arange(data.shape[0])\n",
    "# np.random.seed(15)\n",
    "# np.random.shuffle(indexes)\n",
    "\n",
    "# data = data[indexes]\n",
    "# labels = labels[indexes]\n",
    "\n",
    "# with open('augmented_images.pickle', 'wb') as file:\n",
    "#     pickle.dump([data, labels], file)\n",
    "\n",
    "# with open('augmented_images.pickle', 'rb') as file:\n",
    "#     x = pickle.load(file)"
   ]
  },
  {
   "cell_type": "code",
   "execution_count": 0,
   "metadata": {
    "colab": {},
    "colab_type": "code",
    "id": "AAuPDtE-hl8e"
   },
   "outputs": [],
   "source": [
    "with open('augmented_data.pickle', 'rb') as file:\n",
    "    data, labels = pickle.load(file)"
   ]
  },
  {
   "cell_type": "code",
   "execution_count": 0,
   "metadata": {
    "colab": {},
    "colab_type": "code",
    "id": "jtw_Pq-vhokF"
   },
   "outputs": [],
   "source": [
    "indexes = np.arange(data.shape[0])\n",
    "np.random.seed(15)\n",
    "np.random.shuffle(indexes)\n",
    "\n",
    "X_train = data[indexes]\n",
    "y_train = labels[indexes]"
   ]
  },
  {
   "cell_type": "code",
   "execution_count": 0,
   "metadata": {
    "colab": {},
    "colab_type": "code",
    "id": "fOIQIIe8hqt1"
   },
   "outputs": [],
   "source": [
    "y_train = to_categorical(y_train)"
   ]
  },
  {
   "cell_type": "code",
   "execution_count": 0,
   "metadata": {
    "colab": {},
    "colab_type": "code",
    "id": "yYFnGyVahwPN"
   },
   "outputs": [],
   "source": [
    "with open('new_data.pickle', 'rb') as file:\n",
    "    _, __, X_test, y_test = pickle.load(file)"
   ]
  },
  {
   "cell_type": "code",
   "execution_count": 0,
   "metadata": {
    "colab": {},
    "colab_type": "code",
    "id": "jngsff-Ghxl1"
   },
   "outputs": [],
   "source": [
    "X_test = X_test.reshape((X_test.shape[0], 32, 32, 3), order = 'F').transpose(0, 2, 1, 3)/255"
   ]
  },
  {
   "cell_type": "code",
   "execution_count": 0,
   "metadata": {
    "colab": {},
    "colab_type": "code",
    "id": "8-TPg8B4H9Tv"
   },
   "outputs": [],
   "source": [
    "class_names = ['airplane',\t\t\t\t\t\t\t\t\t\t\n",
    "'automobile'\t,\t\t\t\t\t\t\t\t\t\n",
    "'bird'\t\t,\t\t\t\t\t\t\t\t\n",
    "'cat'\t\t\t\t\t,\t\t\t\t\t\n",
    "'deer'\t,\t\t\t\t\t\t\t\t\t\n",
    "'dog'\t\t,\t\t\t\t\t\t\t\t\n",
    "'frog'\t,\t\t\t\t\t\t\t\t\t\n",
    "'horse'\t,\t\t\t\t\t\t\n",
    "'ship'\t,\t\t\t\t\t\t\t\t\t\n",
    "'truck']"
   ]
  },
  {
   "cell_type": "code",
   "execution_count": 0,
   "metadata": {
    "colab": {},
    "colab_type": "code",
    "id": "Rqn8824KhzEV"
   },
   "outputs": [],
   "source": [
    "def composite_function(input):\n",
    "    batch_norm = BatchNormalization()(input)\n",
    "    relu = ReLU(batch_norm)\n",
    "    conv = layers.Conv2D(filters = 4*k, kernel_size = 1, padding = 'same', \n",
    "                         kernel_initializer='he_normal')(relu)\n",
    "    if not data_augmentation:\n",
    "      conv = layers.Dropout(0.2)(conv)\n",
    "    #####\n",
    "    batch_norm = BatchNormalization()(conv)\n",
    "    relu = ReLU(batch_norm)\n",
    "    conv = layers.Conv2D(filters = k, kernel_size = 3, padding = 'same',\n",
    "                         kernel_initializer='he_normal')(relu)\n",
    "    if not data_augmentation:\n",
    "        conv = layers.Dropout(0.2)(conv)\n",
    "    return conv\n",
    "\n",
    "def transition_layer(input):\n",
    "    batch_norm = BatchNormalization()(input)\n",
    "    conv = layers.Conv2D(filters = int(0.5*input.get_shape()[3].value),kernel_size = 1)(batch_norm)\n",
    "    if not data_augmentation:\n",
    "        conv = layers.Dropout(0.2)(conv)\n",
    "    avg = AveragePooling2D(pool_size = (2, 2))(conv)\n",
    "    return avg\n",
    "    "
   ]
  },
  {
   "cell_type": "code",
   "execution_count": 11,
   "metadata": {
    "colab": {
     "base_uri": "https://localhost:8080/",
     "height": 90
    },
    "colab_type": "code",
    "id": "RdzrBpSnh039",
    "outputId": "f800a7e7-d254-455b-849f-fb65a4dd0e05"
   },
   "outputs": [
    {
     "name": "stdout",
     "output_type": "stream",
     "text": [
      "WARNING:tensorflow:From /usr/local/lib/python3.6/dist-packages/tensorflow_core/python/ops/resource_variable_ops.py:1630: calling BaseResourceVariable.__init__ (from tensorflow.python.ops.resource_variable_ops) with constraint is deprecated and will be removed in a future version.\n",
      "Instructions for updating:\n",
      "If using Keras pass *_constraint arguments to layers.\n"
     ]
    }
   ],
   "source": [
    "k = 12\n",
    "L = 16\n",
    "n_blocks = 3\n",
    "data_augmentation = True\n",
    "input = Input(shape = (32, 32, 3))\n",
    "_input = BatchNormalization()(input)\n",
    "_input = ReLU(_input)\n",
    "_input = layers.Conv2D(filters = 2*k, kernel_size = 3, padding = 'same', \n",
    "                       kernel_initializer='he_normal')(_input)\n",
    "\n",
    "transition_inputs = [layers.concatenate([input, _input], axis = 3)]\n",
    "for block_number in range(n_blocks):\n",
    "    dense_inputs = [transition_inputs[-1]]\n",
    "    for i in range(L):\n",
    "        if len(dense_inputs) == 1:\n",
    "            comp_output = composite_function(dense_inputs[-1])\n",
    "        else:\n",
    "            comp_output = composite_function(layers.concatenate(dense_inputs[::-1], axis = 3))\n",
    "        dense_inputs.append(comp_output)\n",
    "    if block_number == n_blocks - 1:\n",
    "        continue\n",
    "    transition_inputs.append(transition_layer(layers.concatenate(dense_inputs, axis = 3)))\n",
    "pool = AveragePooling2D(pool_size = (8, 8))(layers.concatenate(dense_inputs[::-1], axis = 3))    \n",
    "flat = Flatten()(pool)\n",
    "#dense = layers.Dense(100)(flat)\n",
    "output = layers.Dense((10), activation = 'softmax')(flat)"
   ]
  },
  {
   "cell_type": "code",
   "execution_count": 0,
   "metadata": {
    "colab": {},
    "colab_type": "code",
    "id": "2DSpRGCdh2_1"
   },
   "outputs": [],
   "source": [
    "model = Model(inputs = input, outputs = output)\n",
    "#Optimizer reference - https://github.com/titu1994/DenseNet/blob/master/cifar10.py\n",
    "model.compile(loss='categorical_crossentropy',\n",
    "              optimizer=Adam(1e-3),\n",
    "              metrics=['accuracy'])\n",
    "\n",
    "\n",
    "reduce_lr = ReduceLROnPlateau(monitor='val_acc', factor=np.sqrt(0.1),\n",
    "                                    cooldown=0, patience=5, min_lr=1e-5)"
   ]
  },
  {
   "cell_type": "code",
   "execution_count": 0,
   "metadata": {
    "colab": {},
    "colab_type": "code",
    "id": "65LFlXosyWmB"
   },
   "outputs": [],
   "source": [
    "acc = []\n",
    "loss = []"
   ]
  },
  {
   "cell_type": "code",
   "execution_count": 0,
   "metadata": {
    "colab": {
     "base_uri": "https://localhost:8080/",
     "height": 34
    },
    "colab_type": "code",
    "id": "AMvE1Vc8vS8P",
    "outputId": "c63a02da-0399-40d9-f0d2-76f4edb67f42"
   },
   "outputs": [
    {
     "name": "stdout",
     "output_type": "stream",
     "text": [
      "Train on 100000 samples, validate on 10000 samples\n"
     ]
    }
   ],
   "source": [
    "class MyCallback(Callback):\n",
    "    def on_epoch_end(self, epoch, logs = {}):\n",
    "        global acc, loss\n",
    "        acc.append(logs.get('val_acc'))\n",
    "        loss.append(logs.get('val_loss'))\n",
    "        if (logs.get('val_acc') >= 0.90) or (epoch % 10 == 0) :\n",
    "            print(\"\\nSaving Model\")\n",
    "            self.model.save(f\"new_dense-model-{epoch}.hdf5\")\n",
    "            print(\"Continuing.......\")\n",
    "callback = MyCallback()\n",
    "\n",
    "model.fit(X_train, y_train,epochs = 300,batch_size = 100\n",
    "          , verbose = 1, callbacks = [callback, reduce_lr], validation_data=(X_test, y_test))"
   ]
  },
  {
   "cell_type": "code",
   "execution_count": 0,
   "metadata": {
    "colab": {},
    "colab_type": "code",
    "id": "-XJGeZvfyc4w"
   },
   "outputs": [],
   "source": [
    "# with open('acc.pickle', 'wb') as file:\n",
    "#   pickle.dump([acc, loss], file)\n",
    "\n",
    "with open('acc.pickle', 'rb') as file:\n",
    "  acc, loss = pickle.load(file)"
   ]
  },
  {
   "cell_type": "code",
   "execution_count": 11,
   "metadata": {
    "colab": {
     "base_uri": "https://localhost:8080/",
     "height": 278
    },
    "colab_type": "code",
    "id": "eR4kmn4rWqKe",
    "outputId": "8e8f9c7f-f6e6-482d-e9eb-059a5d3a8014"
   },
   "outputs": [
    {
     "data": {
      "image/png": "[encoded data removed]",
      "text/plain": [
       "<Figure size 432x288 with 1 Axes>"
      ]
     },
     "metadata": {
      "tags": []
     },
     "output_type": "display_data"
    }
   ],
   "source": [
    "plt.plot(acc)\n",
    "plt.xlabel('Epoch')\n",
    "plt.ylabel('Accuracy')\n",
    "plt.scatter(99, acc[99], s=50, marker='o', c='green')\n",
    "plt.text(99-3, acc[99]-0.04, f'Epoch - 99\\nval_los = {round(loss[99], 4)}')\n",
    "plt.show()"
   ]
  },
  {
   "cell_type": "code",
   "execution_count": 12,
   "metadata": {
    "colab": {
     "base_uri": "https://localhost:8080/",
     "height": 303
    },
    "colab_type": "code",
    "id": "oaGDldDd5e1S",
    "outputId": "1e361604-47bc-4e85-89a8-24f4143905a8"
   },
   "outputs": [
    {
     "name": "stdout",
     "output_type": "stream",
     "text": [
      "WARNING:tensorflow:From /usr/local/lib/python3.6/dist-packages/tensorflow_core/python/ops/init_ops.py:97: calling Zeros.__init__ (from tensorflow.python.ops.init_ops) with dtype is deprecated and will be removed in a future version.\n",
      "Instructions for updating:\n",
      "Call initializer instance with the dtype argument instead of passing it to the constructor\n",
      "WARNING:tensorflow:From /usr/local/lib/python3.6/dist-packages/tensorflow_core/python/ops/init_ops.py:97: calling Ones.__init__ (from tensorflow.python.ops.init_ops) with dtype is deprecated and will be removed in a future version.\n",
      "Instructions for updating:\n",
      "Call initializer instance with the dtype argument instead of passing it to the constructor\n",
      "WARNING:tensorflow:From /usr/local/lib/python3.6/dist-packages/tensorflow_core/python/ops/init_ops.py:97: calling VarianceScaling.__init__ (from tensorflow.python.ops.init_ops) with dtype is deprecated and will be removed in a future version.\n",
      "Instructions for updating:\n",
      "Call initializer instance with the dtype argument instead of passing it to the constructor\n",
      "WARNING:tensorflow:From /usr/local/lib/python3.6/dist-packages/tensorflow_core/python/ops/init_ops.py:97: calling GlorotUniform.__init__ (from tensorflow.python.ops.init_ops) with dtype is deprecated and will be removed in a future version.\n",
      "Instructions for updating:\n",
      "Call initializer instance with the dtype argument instead of passing it to the constructor\n",
      "WARNING:tensorflow:From /usr/local/lib/python3.6/dist-packages/tensorflow_core/python/ops/resource_variable_ops.py:1630: calling BaseResourceVariable.__init__ (from tensorflow.python.ops.resource_variable_ops) with constraint is deprecated and will be removed in a future version.\n",
      "Instructions for updating:\n",
      "If using Keras pass *_constraint arguments to layers.\n"
     ]
    }
   ],
   "source": [
    "#Loading the Model\n",
    "model = load_model('new_dense-model-99.hdf5')"
   ]
  },
  {
   "cell_type": "code",
   "execution_count": 0,
   "metadata": {
    "colab": {},
    "colab_type": "code",
    "id": "ycyX6OJV6IwS"
   },
   "outputs": [],
   "source": [
    "train_predict = model.predict(X_train)\n",
    "test_predict = model.predict(X_test)\n",
    "train_predict_class = train_predict.argmax(axis = 1)\n",
    "test_predict_class = test_predict.argmax(axis = 1)"
   ]
  },
  {
   "cell_type": "code",
   "execution_count": 14,
   "metadata": {
    "colab": {
     "base_uri": "https://localhost:8080/",
     "height": 87
    },
    "colab_type": "code",
    "id": "C7OmB-VTDKkM",
    "outputId": "3cddf17b-f1ed-4251-e2eb-08a2fca62fd0"
   },
   "outputs": [
    {
     "name": "stdout",
     "output_type": "stream",
     "text": [
      "Train accuracy - 1.0\n",
      "Train accuracy - 3.09944249015075e-07\n",
      "Test accuracy - 0.9093\n",
      "Test accuracy - 0.7173230132425321\n"
     ]
    }
   ],
   "source": [
    "print(f\"Train accuracy - {accuracy_score(y_train.argmax(axis = 1), train_predict_class)}\")\n",
    "print(f\"Train accuracy - {log_loss(y_train, train_predict)}\")\n",
    "\n",
    "print(f\"Test accuracy - {accuracy_score(y_test.argmax(axis = 1), test_predict_class)}\")\n",
    "print(f\"Test accuracy - {log_loss(y_test, test_predict)}\")"
   ]
  },
  {
   "cell_type": "code",
   "execution_count": 15,
   "metadata": {
    "colab": {
     "base_uri": "https://localhost:8080/",
     "height": 158
    },
    "colab_type": "code",
    "id": "ft3-a79cEDbC",
    "outputId": "c5167838-479e-486e-80bf-b6bcc4d81c68"
   },
   "outputs": [
    {
     "data": {
      "image/png": "[encoded data removed]",
      "text/plain": [
       "<Figure size 144x144 with 1 Axes>"
      ]
     },
     "metadata": {
      "tags": []
     },
     "output_type": "display_data"
    }
   ],
   "source": [
    "plt.figure(figsize = (2, 2))\n",
    "plt.imshow(X_test[1019])\n",
    "plt.show()"
   ]
  },
  {
   "cell_type": "code",
   "execution_count": 16,
   "metadata": {
    "colab": {
     "base_uri": "https://localhost:8080/",
     "height": 34
    },
    "colab_type": "code",
    "id": "zf_Bf5MLHB6Z",
    "outputId": "c6940596-2c56-44cb-dec4-6b370840fd31"
   },
   "outputs": [
    {
     "data": {
      "text/plain": [
       "'dog'"
      ]
     },
     "execution_count": 16,
     "metadata": {
      "tags": []
     },
     "output_type": "execute_result"
    }
   ],
   "source": [
    "class_names[model.predict(X_test[1019][np.newaxis,:]).argmax()]"
   ]
  },
  {
   "cell_type": "markdown",
   "metadata": {},
   "source": [
    "### Confusion Matrix"
   ]
  },
  {
   "cell_type": "code",
   "execution_count": 0,
   "metadata": {
    "colab": {},
    "colab_type": "code",
    "id": "uYU93wSBJkuV"
   },
   "outputs": [],
   "source": [
    "from sklearn.metrics import confusion_matrix\n",
    "conf_matrix = confusion_matrix(y_test.argmax(axis = 1), test_predict_class)"
   ]
  },
  {
   "cell_type": "code",
   "execution_count": 18,
   "metadata": {
    "colab": {
     "base_uri": "https://localhost:8080/",
     "height": 605
    },
    "colab_type": "code",
    "id": "nKBwY3PaNB83",
    "outputId": "e1f520ed-e265-4e4c-da5c-526b68f38d31"
   },
   "outputs": [
    {
     "data": {
      "image/png": "[encoded data removed]",
      "text/plain": [
       "<Figure size 1080x720 with 2 Axes>"
      ]
     },
     "metadata": {
      "tags": []
     },
     "output_type": "display_data"
    }
   ],
   "source": [
    "import seaborn as snb\n",
    "plt.figure(figsize = (15, 10))\n",
    "snb.heatmap(conf_matrix, annot = True, fmt = 'd', xticklabels = range(1, 10) ,yticklabels = range(1, 10))\n",
    "plt.xlabel('Predictions')\n",
    "plt.ylabel('Actual')\n",
    "plt.show()"
   ]
  },
  {
   "cell_type": "markdown",
   "metadata": {
    "colab": {},
    "colab_type": "code",
    "id": "KsGyfj0PK3ZX"
   },
   "source": [
    "### References\n",
    "\n",
    "* https://arxiv.org/pdf/1608.06993.pdf\n",
    "* https://github.com/PacktPublishing/Advanced-Deep-Learning-with-Keras/blob/master/chapter2-deep-networks/densenet-cifar10-2.4.1.py"
   ]
  }
 ],
 "metadata": {
  "accelerator": "GPU",
  "colab": {
   "collapsed_sections": [],
   "name": "CIFAR-Final-2.ipynb",
   "provenance": []
  },
  "kernelspec": {
   "display_name": "Python 3",
   "language": "python",
   "name": "python3"
  },
  "language_info": {
   "codemirror_mode": {
    "name": "ipython",
    "version": 3
   },
   "file_extension": ".py",
   "mimetype": "text/x-python",
   "name": "python",
   "nbconvert_exporter": "python",
   "pygments_lexer": "ipython3",
   "version": "3.7.4"
  }
 },
 "nbformat": 4,
 "nbformat_minor": 1
}
